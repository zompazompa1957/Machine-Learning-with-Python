{
  "nbformat": 4,
  "nbformat_minor": 0,
  "metadata": {
    "colab": {
      "name": "Copia di XGBoostTitanicClassifier.ipynb",
      "provenance": [],
      "include_colab_link": true
    },
    "kernelspec": {
      "name": "python3",
      "display_name": "Python 3"
    },
    "language_info": {
      "name": "python"
    }
  },
  "cells": [
    {
      "cell_type": "markdown",
      "metadata": {
        "id": "view-in-github",
        "colab_type": "text"
      },
      "source": [
        "<a href=\"https://colab.research.google.com/github/zompazompa1957/Machine-Learning-with-Python/blob/master/Copia_di_XGBoostTitanicClassifier.ipynb\" target=\"_parent\"><img src=\"https://colab.research.google.com/assets/colab-badge.svg\" alt=\"Open In Colab\"/></a>"
      ]
    },
    {
      "cell_type": "code",
      "metadata": {
        "id": "_r3w9RyHzxQz"
      },
      "source": [
        "import math\n",
        "import os\n",
        "import random\n",
        "from pathlib import Path\n",
        "from collections import defaultdict\n",
        "from itertools import product\n",
        "\n",
        "\n",
        "import pandas as pd\n",
        "import numpy as np\n",
        "\n",
        "from sklearn import preprocessing\n",
        "from sklearn.neighbors import KNeighborsClassifier\n",
        "from sklearn import metrics\n",
        "from sklearn.model_selection import train_test_split\n",
        "from sklearn.tree import DecisionTreeClassifier\n",
        "from sklearn.ensemble import RandomForestClassifier\n",
        "\n",
        "from xgboost import XGBClassifier\n",
        "\n",
        "\n",
        "import seaborn as sns\n",
        "import matplotlib.pyplot as plt\n",
        "from matplotlib.patches import Ellipse\n",
        "\n",
        "%matplotlib inline"
      ],
      "execution_count": null,
      "outputs": []
    },
    {
      "cell_type": "markdown",
      "metadata": {
        "id": "OkNSBAEnAgn-"
      },
      "source": [
        "# **Load data**"
      ]
    },
    {
      "cell_type": "code",
      "metadata": {
        "colab": {
          "base_uri": "https://localhost:8080/",
          "height": 359
        },
        "id": "0p6w5TdHz2DS",
        "outputId": "1b1a188a-90eb-40f2-b8f2-3429aa0312f5"
      },
      "source": [
        "train_df = pd.read_csv('train_data.csv')\n",
        "train_df.head(10)"
      ],
      "execution_count": null,
      "outputs": [
        {
          "output_type": "execute_result",
          "data": {
            "text/html": [
              "<div>\n",
              "<style scoped>\n",
              "    .dataframe tbody tr th:only-of-type {\n",
              "        vertical-align: middle;\n",
              "    }\n",
              "\n",
              "    .dataframe tbody tr th {\n",
              "        vertical-align: top;\n",
              "    }\n",
              "\n",
              "    .dataframe thead th {\n",
              "        text-align: right;\n",
              "    }\n",
              "</style>\n",
              "<table border=\"1\" class=\"dataframe\">\n",
              "  <thead>\n",
              "    <tr style=\"text-align: right;\">\n",
              "      <th></th>\n",
              "      <th>Unnamed: 0</th>\n",
              "      <th>PassengerId</th>\n",
              "      <th>Survived</th>\n",
              "      <th>Sex</th>\n",
              "      <th>Age</th>\n",
              "      <th>Fare</th>\n",
              "      <th>Pclass_1</th>\n",
              "      <th>Pclass_2</th>\n",
              "      <th>Pclass_3</th>\n",
              "      <th>Family_size</th>\n",
              "      <th>Title_1</th>\n",
              "      <th>Title_2</th>\n",
              "      <th>Title_3</th>\n",
              "      <th>Title_4</th>\n",
              "      <th>Emb_1</th>\n",
              "      <th>Emb_2</th>\n",
              "      <th>Emb_3</th>\n",
              "    </tr>\n",
              "  </thead>\n",
              "  <tbody>\n",
              "    <tr>\n",
              "      <th>0</th>\n",
              "      <td>0</td>\n",
              "      <td>1</td>\n",
              "      <td>0</td>\n",
              "      <td>1</td>\n",
              "      <td>0.2750</td>\n",
              "      <td>0.014151</td>\n",
              "      <td>0</td>\n",
              "      <td>0</td>\n",
              "      <td>1</td>\n",
              "      <td>0.1</td>\n",
              "      <td>1</td>\n",
              "      <td>0</td>\n",
              "      <td>0</td>\n",
              "      <td>0</td>\n",
              "      <td>0</td>\n",
              "      <td>0</td>\n",
              "      <td>1</td>\n",
              "    </tr>\n",
              "    <tr>\n",
              "      <th>1</th>\n",
              "      <td>1</td>\n",
              "      <td>2</td>\n",
              "      <td>1</td>\n",
              "      <td>0</td>\n",
              "      <td>0.4750</td>\n",
              "      <td>0.139136</td>\n",
              "      <td>1</td>\n",
              "      <td>0</td>\n",
              "      <td>0</td>\n",
              "      <td>0.1</td>\n",
              "      <td>1</td>\n",
              "      <td>0</td>\n",
              "      <td>0</td>\n",
              "      <td>0</td>\n",
              "      <td>1</td>\n",
              "      <td>0</td>\n",
              "      <td>0</td>\n",
              "    </tr>\n",
              "    <tr>\n",
              "      <th>2</th>\n",
              "      <td>2</td>\n",
              "      <td>3</td>\n",
              "      <td>1</td>\n",
              "      <td>0</td>\n",
              "      <td>0.3250</td>\n",
              "      <td>0.015469</td>\n",
              "      <td>0</td>\n",
              "      <td>0</td>\n",
              "      <td>1</td>\n",
              "      <td>0.0</td>\n",
              "      <td>0</td>\n",
              "      <td>0</td>\n",
              "      <td>0</td>\n",
              "      <td>1</td>\n",
              "      <td>0</td>\n",
              "      <td>0</td>\n",
              "      <td>1</td>\n",
              "    </tr>\n",
              "    <tr>\n",
              "      <th>3</th>\n",
              "      <td>3</td>\n",
              "      <td>4</td>\n",
              "      <td>1</td>\n",
              "      <td>0</td>\n",
              "      <td>0.4375</td>\n",
              "      <td>0.103644</td>\n",
              "      <td>1</td>\n",
              "      <td>0</td>\n",
              "      <td>0</td>\n",
              "      <td>0.1</td>\n",
              "      <td>1</td>\n",
              "      <td>0</td>\n",
              "      <td>0</td>\n",
              "      <td>0</td>\n",
              "      <td>0</td>\n",
              "      <td>0</td>\n",
              "      <td>1</td>\n",
              "    </tr>\n",
              "    <tr>\n",
              "      <th>4</th>\n",
              "      <td>4</td>\n",
              "      <td>5</td>\n",
              "      <td>0</td>\n",
              "      <td>1</td>\n",
              "      <td>0.4375</td>\n",
              "      <td>0.015713</td>\n",
              "      <td>0</td>\n",
              "      <td>0</td>\n",
              "      <td>1</td>\n",
              "      <td>0.0</td>\n",
              "      <td>1</td>\n",
              "      <td>0</td>\n",
              "      <td>0</td>\n",
              "      <td>0</td>\n",
              "      <td>0</td>\n",
              "      <td>0</td>\n",
              "      <td>1</td>\n",
              "    </tr>\n",
              "    <tr>\n",
              "      <th>5</th>\n",
              "      <td>5</td>\n",
              "      <td>6</td>\n",
              "      <td>0</td>\n",
              "      <td>1</td>\n",
              "      <td>0.3500</td>\n",
              "      <td>0.016510</td>\n",
              "      <td>0</td>\n",
              "      <td>0</td>\n",
              "      <td>1</td>\n",
              "      <td>0.0</td>\n",
              "      <td>1</td>\n",
              "      <td>0</td>\n",
              "      <td>0</td>\n",
              "      <td>0</td>\n",
              "      <td>0</td>\n",
              "      <td>1</td>\n",
              "      <td>0</td>\n",
              "    </tr>\n",
              "    <tr>\n",
              "      <th>6</th>\n",
              "      <td>6</td>\n",
              "      <td>7</td>\n",
              "      <td>0</td>\n",
              "      <td>1</td>\n",
              "      <td>0.6750</td>\n",
              "      <td>0.101229</td>\n",
              "      <td>1</td>\n",
              "      <td>0</td>\n",
              "      <td>0</td>\n",
              "      <td>0.0</td>\n",
              "      <td>1</td>\n",
              "      <td>0</td>\n",
              "      <td>0</td>\n",
              "      <td>0</td>\n",
              "      <td>0</td>\n",
              "      <td>0</td>\n",
              "      <td>1</td>\n",
              "    </tr>\n",
              "    <tr>\n",
              "      <th>7</th>\n",
              "      <td>7</td>\n",
              "      <td>8</td>\n",
              "      <td>0</td>\n",
              "      <td>1</td>\n",
              "      <td>0.0250</td>\n",
              "      <td>0.041136</td>\n",
              "      <td>0</td>\n",
              "      <td>0</td>\n",
              "      <td>1</td>\n",
              "      <td>0.4</td>\n",
              "      <td>0</td>\n",
              "      <td>0</td>\n",
              "      <td>1</td>\n",
              "      <td>0</td>\n",
              "      <td>0</td>\n",
              "      <td>0</td>\n",
              "      <td>1</td>\n",
              "    </tr>\n",
              "    <tr>\n",
              "      <th>8</th>\n",
              "      <td>8</td>\n",
              "      <td>9</td>\n",
              "      <td>1</td>\n",
              "      <td>0</td>\n",
              "      <td>0.3375</td>\n",
              "      <td>0.021731</td>\n",
              "      <td>0</td>\n",
              "      <td>0</td>\n",
              "      <td>1</td>\n",
              "      <td>0.2</td>\n",
              "      <td>1</td>\n",
              "      <td>0</td>\n",
              "      <td>0</td>\n",
              "      <td>0</td>\n",
              "      <td>0</td>\n",
              "      <td>0</td>\n",
              "      <td>1</td>\n",
              "    </tr>\n",
              "    <tr>\n",
              "      <th>9</th>\n",
              "      <td>9</td>\n",
              "      <td>10</td>\n",
              "      <td>1</td>\n",
              "      <td>0</td>\n",
              "      <td>0.1750</td>\n",
              "      <td>0.058694</td>\n",
              "      <td>0</td>\n",
              "      <td>1</td>\n",
              "      <td>0</td>\n",
              "      <td>0.1</td>\n",
              "      <td>1</td>\n",
              "      <td>0</td>\n",
              "      <td>0</td>\n",
              "      <td>0</td>\n",
              "      <td>1</td>\n",
              "      <td>0</td>\n",
              "      <td>0</td>\n",
              "    </tr>\n",
              "  </tbody>\n",
              "</table>\n",
              "</div>"
            ],
            "text/plain": [
              "   Unnamed: 0  PassengerId  Survived  Sex  ...  Title_4  Emb_1  Emb_2  Emb_3\n",
              "0           0            1         0    1  ...        0      0      0      1\n",
              "1           1            2         1    0  ...        0      1      0      0\n",
              "2           2            3         1    0  ...        1      0      0      1\n",
              "3           3            4         1    0  ...        0      0      0      1\n",
              "4           4            5         0    1  ...        0      0      0      1\n",
              "5           5            6         0    1  ...        0      0      1      0\n",
              "6           6            7         0    1  ...        0      0      0      1\n",
              "7           7            8         0    1  ...        0      0      0      1\n",
              "8           8            9         1    0  ...        0      0      0      1\n",
              "9           9           10         1    0  ...        0      1      0      0\n",
              "\n",
              "[10 rows x 17 columns]"
            ]
          },
          "metadata": {
            "tags": []
          },
          "execution_count": 3
        }
      ]
    },
    {
      "cell_type": "markdown",
      "metadata": {
        "id": "aafZoOLyAmBv"
      },
      "source": [
        "# **Train the model**"
      ]
    },
    {
      "cell_type": "code",
      "metadata": {
        "colab": {
          "base_uri": "https://localhost:8080/"
        },
        "id": "WL2g8Kx30hJH",
        "outputId": "ddbc9acc-b489-49b3-a165-5e11ca0d6880"
      },
      "source": [
        "predictors = ['Age', 'Fare']\n",
        "outcome = 'Survived'\n",
        "\n",
        "X = train_df[predictors]\n",
        "y = train_df[outcome]\n",
        "\n",
        "xgb = XGBClassifier(objective='binary:logistic', subsample=.63, \n",
        "                    use_label_encoder=False, eval_metric='error')\n",
        "print(xgb.fit(X, y))"
      ],
      "execution_count": null,
      "outputs": [
        {
          "output_type": "stream",
          "text": [
            "XGBClassifier(base_score=0.5, booster='gbtree', colsample_bylevel=1,\n",
            "              colsample_bynode=1, colsample_bytree=1, eval_metric='error',\n",
            "              gamma=0, learning_rate=0.1, max_delta_step=0, max_depth=3,\n",
            "              min_child_weight=1, missing=None, n_estimators=100, n_jobs=1,\n",
            "              nthread=None, objective='binary:logistic', random_state=0,\n",
            "              reg_alpha=0, reg_lambda=1, scale_pos_weight=1, seed=None,\n",
            "              silent=None, subsample=0.63, use_label_encoder=False,\n",
            "              verbosity=1)\n"
          ],
          "name": "stdout"
        }
      ]
    },
    {
      "cell_type": "markdown",
      "metadata": {
        "id": "u0h3e_42ApPn"
      },
      "source": [
        "# **Predict**"
      ]
    },
    {
      "cell_type": "code",
      "metadata": {
        "colab": {
          "base_uri": "https://localhost:8080/"
        },
        "id": "sSPiemc81M9j",
        "outputId": "b547ab86-c368-4ed4-f44f-e26a0000cd07"
      },
      "source": [
        "xgb_df = X.copy()\n",
        "xgb_df['prediction'] = ['Survived' if p == 1 else 'Dead' for p in xgb.predict(X)]\n",
        "xgb_df['prob_default'] = xgb.predict_proba(X)[:, 0]\n",
        "xgb_df['Truth'] = ['Survived' if p == 1 else 'Dead' for p in y]\n",
        "print(xgb_df.head())"
      ],
      "execution_count": null,
      "outputs": [
        {
          "output_type": "stream",
          "text": [
            "      Age      Fare prediction  prob_default     Truth\n",
            "0  0.2750  0.014151       Dead      0.734515      Dead\n",
            "1  0.4750  0.139136   Survived      0.496785  Survived\n",
            "2  0.3250  0.015469       Dead      0.642946  Survived\n",
            "3  0.4375  0.103644   Survived      0.159827  Survived\n",
            "4  0.4375  0.015713       Dead      0.871095      Dead\n"
          ],
          "name": "stdout"
        }
      ]
    },
    {
      "cell_type": "code",
      "metadata": {
        "colab": {
          "base_uri": "https://localhost:8080/",
          "height": 1000
        },
        "id": "hJpjUoKO1h87",
        "outputId": "a9403e84-42a0-4cf1-cdd4-a5b452099371"
      },
      "source": [
        "fig, ax = plt.subplots(figsize=(16, 14))\n",
        "\n",
        "xgb_df.loc[xgb_df.prediction=='Dead'].plot(\n",
        "    x='Age', y='Fare', style='*', \n",
        "    markerfacecolor='none', markeredgecolor='C1', ax=ax)\n",
        "xgb_df.loc[xgb_df.prediction=='Survived'].plot(\n",
        "    x='Age', y='Fare', style='o', \n",
        "    markerfacecolor='none', markeredgecolor='C0', ax=ax)\n",
        "ax.legend(['Dead', 'Survived']);\n",
        "# ax.set_xlim(0, 1)\n",
        "ax.set_ylim(0, 0.6)\n",
        "ax.set_xlabel('Age')\n",
        "ax.set_ylabel('Fare')\n",
        "\n",
        "plt.tight_layout()\n",
        "plt.show()"
      ],
      "execution_count": null,
      "outputs": [
        {
          "output_type": "display_data",
          "data": {
            "image/png": "[encoded data removed]",
            "text/plain": [
              "<Figure size 1152x1008 with 1 Axes>"
            ]
          },
          "metadata": {
            "tags": [],
            "needs_background": "light"
          }
        }
      ]
    },
    {
      "cell_type": "code",
      "metadata": {
        "id": "YwuFzeL7BJXk"
      },
      "source": [
        ""
      ],
      "execution_count": null,
      "outputs": []
    },
    {
      "cell_type": "markdown",
      "metadata": {
        "id": "cIbBAhWmAsgb"
      },
      "source": [
        "# **Regularization**"
      ]
    },
    {
      "cell_type": "code",
      "metadata": {
        "id": "r4qpfJOFBVUa"
      },
      "source": [
        "test_df = pd.read_csv('test_data.csv')"
      ],
      "execution_count": null,
      "outputs": []
    },
    {
      "cell_type": "code",
      "metadata": {
        "colab": {
          "base_uri": "https://localhost:8080/"
        },
        "id": "45YZ3_Ru2UbR",
        "outputId": "3bd629d3-77f4-45d6-ba3d-70cbd5502777"
      },
      "source": [
        "predictors = ['Sex', 'Age', 'Fare', 'Pclass_1','Pclass_2', 'Pclass_3', 'Family_size', 'Title_1', 'Title_2', 'Title_3', 'Title_4', 'Emb_1', 'Emb_2', 'Emb_3']\n",
        "outcome = 'Survived'\n",
        "\n",
        "train_X = train_df[predictors]\n",
        "train_y = train_df[outcome]\n",
        "\n",
        "valid_X = test_df[predictors]\n",
        "valid_y = test_df[outcome]\n",
        "\n",
        "xgb_default = XGBClassifier(objective='binary:logistic', n_estimators=250, max_depth=6,\n",
        "                            reg_lambda=0, learning_rate=0.1, subsample=1,\n",
        "                            use_label_encoder=False, eval_metric='error')\n",
        "xgb_default.fit(train_X, train_y)\n",
        "\n",
        "xgb_penalty = XGBClassifier(objective='binary:logistic', n_estimators=250, max_depth=6,\n",
        "                            reg_lambda=1000, learning_rate=0.1, subsample=0.63,\n",
        "                            use_label_encoder=False, eval_metric='error')\n",
        "print(xgb_penalty.fit(train_X, train_y))"
      ],
      "execution_count": null,
      "outputs": [
        {
          "output_type": "stream",
          "text": [
            "XGBClassifier(base_score=0.5, booster='gbtree', colsample_bylevel=1,\n",
            "              colsample_bynode=1, colsample_bytree=1, eval_metric='error',\n",
            "              gamma=0, learning_rate=0.1, max_delta_step=0, max_depth=6,\n",
            "              min_child_weight=1, missing=None, n_estimators=250, n_jobs=1,\n",
            "              nthread=None, objective='binary:logistic', random_state=0,\n",
            "              reg_alpha=0, reg_lambda=1000, scale_pos_weight=1, seed=None,\n",
            "              silent=None, subsample=0.63, use_label_encoder=False,\n",
            "              verbosity=1)\n"
          ],
          "name": "stdout"
        }
      ]
    },
    {
      "cell_type": "code",
      "metadata": {
        "colab": {
          "base_uri": "https://localhost:8080/"
        },
        "id": "nL97w54tBrYY",
        "outputId": "2843863f-2137-4d7c-c093-283728fedb64"
      },
      "source": [
        "pred_default = xgb_default.predict_proba(train_X)[:, 1]\n",
        "error_default = abs(train_y - pred_default) > 0.5\n",
        "print('Survived (train): ', np.mean(error_default))\n",
        "\n",
        "pred_default = xgb_default.predict_proba(valid_X)[:, 1]\n",
        "error_default = abs(valid_y - pred_default) > 0.5\n",
        "print('default: ', np.mean(error_default))\n",
        "\n",
        "pred_penalty = xgb_penalty.predict_proba(valid_X)[:, 1]\n",
        "error_penalty = abs(valid_y - pred_penalty) > 0.5\n",
        "print('penalty: ', np.mean(error_penalty))"
      ],
      "execution_count": null,
      "outputs": [
        {
          "output_type": "stream",
          "text": [
            "Survived (train):  0.03409090909090909\n",
            "default:  0.17\n",
            "penalty:  0.16\n"
          ],
          "name": "stdout"
        }
      ]
    },
    {
      "cell_type": "code",
      "metadata": {
        "colab": {
          "base_uri": "https://localhost:8080/"
        },
        "id": "M5ZuXFqVB9z2",
        "outputId": "8748f1aa-117b-4a19-c8a3-463cfc76d1c4"
      },
      "source": [
        "results = []\n",
        "for ntree_limit in range(1, 250):\n",
        "    train_default = xgb_default.predict_proba(train_X, ntree_limit=ntree_limit)[:, 1]\n",
        "    train_penalty = xgb_penalty.predict_proba(train_X, ntree_limit=ntree_limit)[:, 1]\n",
        "    pred_default = xgb_default.predict_proba(valid_X, ntree_limit=ntree_limit)[:, 1]\n",
        "    pred_penalty = xgb_penalty.predict_proba(valid_X, ntree_limit=ntree_limit)[:, 1]\n",
        "    results.append({\n",
        "        'iterations': ntree_limit,\n",
        "        'default train': np.mean(abs(train_y - train_default) > 0.5),\n",
        "        'penalty train': np.mean(abs(train_y - train_penalty) > 0.5),\n",
        "        'default test': np.mean(abs(valid_y - pred_default) > 0.5),\n",
        "        'penalty test': np.mean(abs(valid_y - pred_penalty) > 0.5),\n",
        "    })\n",
        "\n",
        "results = pd.DataFrame(results)\n",
        "print(results.head())"
      ],
      "execution_count": null,
      "outputs": [
        {
          "output_type": "stream",
          "text": [
            "   iterations  default train  penalty train  default test  penalty test\n",
            "0           1       0.145202       0.179293          0.13          0.17\n",
            "1           2       0.137626       0.183081          0.15          0.16\n",
            "2           3       0.132576       0.185606          0.15          0.16\n",
            "3           4       0.127525       0.185606          0.14          0.16\n",
            "4           5       0.119949       0.185606          0.15          0.16\n"
          ],
          "name": "stdout"
        }
      ]
    },
    {
      "cell_type": "code",
      "metadata": {
        "colab": {
          "base_uri": "https://localhost:8080/",
          "height": 279
        },
        "id": "3U87wyIHCMM_",
        "outputId": "bed009f0-ccb8-4bb4-a6db-d35a4a0e5719"
      },
      "source": [
        "ax = results.plot(x='iterations', y='default test')\n",
        "results.plot(x='iterations', y='penalty test', ax=ax)\n",
        "results.plot(x='iterations', y='default train', ax=ax)\n",
        "results.plot(x='iterations', y='penalty train', ax=ax)\n",
        "plt.show()"
      ],
      "execution_count": null,
      "outputs": [
        {
          "output_type": "display_data",
          "data": {
            "image/png": "[encoded data removed]",
            "text/plain": [
              "<Figure size 432x288 with 1 Axes>"
            ]
          },
          "metadata": {
            "tags": [],
            "needs_background": "light"
          }
        }
      ]
    },
    {
      "cell_type": "markdown",
      "metadata": {
        "id": "XaZNNfkwFnFI"
      },
      "source": [
        "# **Hyperparameters and Cross-Validation**"
      ]
    },
    {
      "cell_type": "code",
      "metadata": {
        "colab": {
          "base_uri": "https://localhost:8080/"
        },
        "id": "oq24yNxMCTaE",
        "outputId": "045b01fa-418d-4603-eac0-316643be2b1d"
      },
      "source": [
        "idx = np.random.choice(range(5), size=len(X), replace=True)\n",
        "error = []\n",
        "for eta, max_depth in product([0.1, 0.5, 0.9], [3, 6, 9]):\n",
        "    xgb = XGBClassifier(objective='binary:logistic', n_estimators=250, \n",
        "                        max_depth=max_depth, learning_rate=eta,\n",
        "                        use_label_encoder=False, eval_metric='error')\n",
        "    cv_error = []\n",
        "    for k in range(5):\n",
        "        fold_idx = idx == k\n",
        "        train_X = X.loc[~fold_idx]; train_y = y[~fold_idx]\n",
        "        valid_X = X.loc[fold_idx]; valid_y = y[fold_idx]\n",
        "\n",
        "        xgb.fit(train_X, train_y)\n",
        "        pred = xgb.predict_proba(valid_X)[:, 1]\n",
        "        cv_error.append(np.mean(abs(valid_y - pred) > 0.5))\n",
        "    error.append({\n",
        "        'eta': eta,\n",
        "        'max_depth': max_depth,\n",
        "        'avg_error': np.mean(cv_error)\n",
        "    })\n",
        "    print(error[-1])\n",
        "errors = pd.DataFrame(error)\n",
        "print(errors)"
      ],
      "execution_count": null,
      "outputs": [
        {
          "output_type": "stream",
          "text": [
            "{'eta': 0.1, 'max_depth': 3, 'avg_error': 0.33443594765777884}\n",
            "{'eta': 0.1, 'max_depth': 6, 'avg_error': 0.3746657729608958}\n",
            "{'eta': 0.1, 'max_depth': 9, 'avg_error': 0.3874119403094528}\n",
            "{'eta': 0.5, 'max_depth': 3, 'avg_error': 0.37680810006967774}\n",
            "{'eta': 0.5, 'max_depth': 6, 'avg_error': 0.3865615784379047}\n",
            "{'eta': 0.5, 'max_depth': 9, 'avg_error': 0.3911758296046058}\n",
            "{'eta': 0.9, 'max_depth': 3, 'avg_error': 0.38250009539599866}\n",
            "{'eta': 0.9, 'max_depth': 6, 'avg_error': 0.39018686182078344}\n",
            "{'eta': 0.9, 'max_depth': 9, 'avg_error': 0.3881730946542704}\n",
            "   eta  max_depth  avg_error\n",
            "0  0.1          3   0.334436\n",
            "1  0.1          6   0.374666\n",
            "2  0.1          9   0.387412\n",
            "3  0.5          3   0.376808\n",
            "4  0.5          6   0.386562\n",
            "5  0.5          9   0.391176\n",
            "6  0.9          3   0.382500\n",
            "7  0.9          6   0.390187\n",
            "8  0.9          9   0.388173\n"
          ],
          "name": "stdout"
        }
      ]
    },
    {
      "cell_type": "code",
      "metadata": {
        "colab": {
          "base_uri": "https://localhost:8080/"
        },
        "id": "FXX7jJ7nF4Ix",
        "outputId": "3c6f395c-0f79-4dad-8615-fcfb2044a5bd"
      },
      "source": [
        "print(errors.pivot_table(index='eta', columns='max_depth', values='avg_error') * 100)"
      ],
      "execution_count": null,
      "outputs": [
        {
          "output_type": "stream",
          "text": [
            "max_depth          3          6          9\n",
            "eta                                       \n",
            "0.1        33.443595  37.466577  38.741194\n",
            "0.5        37.680810  38.656158  39.117583\n",
            "0.9        38.250010  39.018686  38.817309\n"
          ],
          "name": "stdout"
        }
      ]
    },
    {
      "cell_type": "code",
      "metadata": {
        "id": "q65AkOtqGCI0"
      },
      "source": [
        ""
      ],
      "execution_count": null,
      "outputs": []
    }
  ]
}